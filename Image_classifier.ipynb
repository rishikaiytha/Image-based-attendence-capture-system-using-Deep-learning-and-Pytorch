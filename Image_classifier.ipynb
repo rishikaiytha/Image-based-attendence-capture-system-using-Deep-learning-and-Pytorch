{
  "nbformat": 4,
  "nbformat_minor": 5,
  "metadata": {
    "kernelspec": {
      "display_name": "Python 3",
      "language": "python",
      "name": "python3"
    },
    "language_info": {
      "codemirror_mode": {
        "name": "ipython",
        "version": 3
      },
      "file_extension": ".py",
      "mimetype": "text/x-python",
      "name": "python",
      "nbconvert_exporter": "python",
      "pygments_lexer": "ipython3",
      "version": "3.6.12"
    },
    "colab": {
      "name": "Image classifier.ipynb",
      "provenance": [],
      "collapsed_sections": []
    },
    "accelerator": "GPU"
  },
  "cells": [
    {
      "cell_type": "markdown",
      "metadata": {
        "id": "joined-upgrade"
      },
      "source": [
        "## Image based attendence capturing system using deep learning and computer vision"
      ],
      "id": "joined-upgrade"
    },
    {
      "cell_type": "code",
      "metadata": {
        "id": "fifth-repair"
      },
      "source": [
        "# Steps Done\n",
        "# 1. Rearranged the data in the trainset folder and created two folder train_01,test_01\n",
        "# 2. imported that dataset in this notebook as tensor\n",
        "# 3. Created a Deep CNN model from scratch\n",
        "# 4. Trained the modeland applied it to test set \n",
        "# 5. Created a model which will accept the image and compare the image with the ones in the train set and gives \n",
        "#    an output matched or not matched\n",
        "\n"
      ],
      "id": "fifth-repair",
      "execution_count": null,
      "outputs": []
    },
    {
      "cell_type": "code",
      "metadata": {
        "id": "breeding-restoration"
      },
      "source": [
        "import numpy as np\n",
        "import cv2\n",
        "import matplotlib.pyplot as plt\n",
        "import torch\n",
        "from torchvision import datasets, transforms\n",
        "from torch.utils.data import DataLoader\n",
        "import torch.nn as nn\n",
        "import torch.nn.functional as F\n",
        "import torch.optim as optim"
      ],
      "id": "breeding-restoration",
      "execution_count": null,
      "outputs": []
    },
    {
      "cell_type": "code",
      "metadata": {
        "id": "filled-logging"
      },
      "source": [
        "#Importing all the dataset from directory to the notebook\n",
        "def test_train_data():\n",
        "    # data_dir = 'C:\\\\Users\\\\16124\\\\Documents\\\\Rishika\\\\Internship work\\\\trainset'\n",
        "    \n",
        "    transform = transforms.Compose([transforms.Resize(256),transforms.CenterCrop(224),transforms.ToTensor(),transforms.Normalize((0.5, 0.5, 0.5), \n",
        "                                                                                                                                 --(0.5, 0.5, 0.5))])\n",
        "    \n",
        "    train_set = datasets.ImageFolder( '/content/drive/MyDrive/Program/train_01', transform =transform )\n",
        "    test_set = datasets.ImageFolder( '/content/drive/MyDrive/Program/test_01', transform =transform)\n",
        "    \n",
        "    train = DataLoader(train_set, batch_size=1, shuffle=True)\n",
        "    test = DataLoader(test_set, batch_size=1, shuffle=True)\n",
        "    return train,test\n",
        "\n",
        "#Printing few images to check the training set\n",
        "def train_imshow():\n",
        "    dataiter = iter(train)\n",
        "    images, labels = dataiter.next()\n",
        "    fig, axes = plt.subplots(figsize=(10, 4), ncols=5)\n",
        "    for i in range(5):\n",
        "        ax = axes[i]\n",
        "        ax.imshow(images[i].permute(1, 2, 0))\n",
        "    plt.imshow()"
      ],
      "id": "filled-logging",
      "execution_count": null,
      "outputs": []
    },
    {
      "cell_type": "code",
      "metadata": {
        "id": "mounted-oliver"
      },
      "source": [
        "#Assigning variable names for the test and training data sets\n",
        "train,test = test_train_data() "
      ],
      "id": "mounted-oliver",
      "execution_count": 106,
      "outputs": []
    },
    {
      "cell_type": "code",
      "metadata": {
        "colab": {
          "base_uri": "https://localhost:8080/",
          "height": 539
        },
        "id": "floral-postage",
        "outputId": "54b40001-d097-4bb4-bb12-2a4ab065d4c7"
      },
      "source": [
        "train_imshow()"
      ],
      "id": "floral-postage",
      "execution_count": null,
      "outputs": [
        {
          "output_type": "stream",
          "text": [
            "Clipping input data to the valid range for imshow with RGB data ([0..1] for floats or [0..255] for integers).\n"
          ],
          "name": "stderr"
        },
        {
          "output_type": "error",
          "ename": "IndexError",
          "evalue": "ignored",
          "traceback": [
            "\u001b[0;31m---------------------------------------------------------------------------\u001b[0m",
            "\u001b[0;31mIndexError\u001b[0m                                Traceback (most recent call last)",
            "\u001b[0;32m<ipython-input-8-45fa9d4fce16>\u001b[0m in \u001b[0;36m<module>\u001b[0;34m()\u001b[0m\n\u001b[0;32m----> 1\u001b[0;31m \u001b[0mtrain_imshow\u001b[0m\u001b[0;34m(\u001b[0m\u001b[0;34m)\u001b[0m\u001b[0;34m\u001b[0m\u001b[0;34m\u001b[0m\u001b[0m\n\u001b[0m",
            "\u001b[0;32m<ipython-input-6-4d4f36dee27d>\u001b[0m in \u001b[0;36mtrain_imshow\u001b[0;34m()\u001b[0m\n\u001b[1;32m     19\u001b[0m     \u001b[0;32mfor\u001b[0m \u001b[0mi\u001b[0m \u001b[0;32min\u001b[0m \u001b[0mrange\u001b[0m\u001b[0;34m(\u001b[0m\u001b[0;36m5\u001b[0m\u001b[0;34m)\u001b[0m\u001b[0;34m:\u001b[0m\u001b[0;34m\u001b[0m\u001b[0;34m\u001b[0m\u001b[0m\n\u001b[1;32m     20\u001b[0m         \u001b[0max\u001b[0m \u001b[0;34m=\u001b[0m \u001b[0maxes\u001b[0m\u001b[0;34m[\u001b[0m\u001b[0mi\u001b[0m\u001b[0;34m]\u001b[0m\u001b[0;34m\u001b[0m\u001b[0;34m\u001b[0m\u001b[0m\n\u001b[0;32m---> 21\u001b[0;31m         \u001b[0max\u001b[0m\u001b[0;34m.\u001b[0m\u001b[0mimshow\u001b[0m\u001b[0;34m(\u001b[0m\u001b[0mimages\u001b[0m\u001b[0;34m[\u001b[0m\u001b[0mi\u001b[0m\u001b[0;34m]\u001b[0m\u001b[0;34m.\u001b[0m\u001b[0mpermute\u001b[0m\u001b[0;34m(\u001b[0m\u001b[0;36m1\u001b[0m\u001b[0;34m,\u001b[0m \u001b[0;36m2\u001b[0m\u001b[0;34m,\u001b[0m \u001b[0;36m0\u001b[0m\u001b[0;34m)\u001b[0m\u001b[0;34m)\u001b[0m\u001b[0;34m\u001b[0m\u001b[0;34m\u001b[0m\u001b[0m\n\u001b[0m\u001b[1;32m     22\u001b[0m     \u001b[0mplt\u001b[0m\u001b[0;34m.\u001b[0m\u001b[0mimshow\u001b[0m\u001b[0;34m(\u001b[0m\u001b[0;34m)\u001b[0m\u001b[0;34m\u001b[0m\u001b[0;34m\u001b[0m\u001b[0m\n",
            "\u001b[0;31mIndexError\u001b[0m: index 1 is out of bounds for dimension 0 with size 1"
          ]
        },
        {
          "output_type": "display_data",
          "data": {
            "image/png": "[encoded data removed]",
            "text/plain": [
              "<Figure size 720x288 with 5 Axes>"
            ]
          },
          "metadata": {
            "tags": [],
            "needs_background": "light"
          }
        }
      ]
    },
    {
      "cell_type": "code",
      "metadata": {
        "id": "0H608EVuQrWr"
      },
      "source": [
        "class Unit(nn.Module):\n",
        "    def __init__(self, in_channels, out_channels):\n",
        "        super(Unit, self).__init__()\n",
        "\n",
        "        self.conv = nn.Conv2d(in_channels=in_channels, kernel_size=3, out_channels=out_channels, stride=1, padding=1)\n",
        "        self.bn = nn.BatchNorm2d(num_features=out_channels)\n",
        "        self.relu = nn.ReLU()\n",
        "\n",
        "    def forward(self, input):\n",
        "        output = self.conv(input)\n",
        "        output = self.bn(output)\n",
        "        output = self.relu(output)\n",
        "\n",
        "        return output\n",
        "    \n",
        "    \n",
        "class SimpleNet(nn.Module):\n",
        "    def __init__(self,num_classes=1012):\n",
        "        super(SimpleNet,self).__init__()\n",
        "        \n",
        "        #Creating 14 layers of the unit with max pooling in between\n",
        "        self.unit1 = Unit(in_channels=3,out_channels=32)\n",
        "        self.unit2 = Unit(in_channels=32, out_channels=32)\n",
        "        self.unit3 = Unit(in_channels=32, out_channels=32)\n",
        "\n",
        "        self.pool1 = nn.MaxPool2d(kernel_size=2)\n",
        "\n",
        "        self.unit4 = Unit(in_channels=32, out_channels=64)\n",
        "        self.unit5 = Unit(in_channels=64, out_channels=64)\n",
        "        self.unit6 = Unit(in_channels=64, out_channels=64)\n",
        "        self.unit7 = Unit(in_channels=64, out_channels=64)\n",
        "\n",
        "        self.pool2 = nn.MaxPool2d(kernel_size=2)\n",
        "\n",
        "        self.unit8 = Unit(in_channels=64, out_channels=128)\n",
        "        self.unit9 = Unit(in_channels=128, out_channels=128)\n",
        "        self.unit10 = Unit(in_channels=128, out_channels=128)\n",
        "        self.unit11 = Unit(in_channels=128, out_channels=128)\n",
        "\n",
        "        self.pool3 = nn.MaxPool2d(kernel_size=2)\n",
        "\n",
        "        self.unit12 = Unit(in_channels=128, out_channels=128)\n",
        "        self.unit13 = Unit(in_channels=128, out_channels=128)\n",
        "        self.unit14 = Unit(in_channels=128, out_channels=128)\n",
        "\n",
        "        self.avgpool = nn.AvgPool2d(kernel_size=4)\n",
        "        \n",
        "        #Adding all the units into the Sequential layer in the exact order\n",
        "        self.net = nn.Sequential(self.unit1, self.unit2, self.unit3, self.pool1, self.unit4, self.unit5, self.unit6\n",
        "                                 ,self.unit7, self.pool2, self.unit8, self.unit9, self.unit10, self.unit11, self.pool3,\n",
        "                                 self.unit12, self.unit13, self.unit14, self.avgpool)\n",
        "\n",
        "        self.fc = nn.Linear(in_features=128*7*7,out_features=num_classes)\n",
        "\n",
        "    def forward(self, input):\n",
        "        output = self.net(input)\n",
        "        output = output.view(-1,128*7*7)\n",
        "        output = self.fc(output)\n",
        "        return output"
      ],
      "id": "0H608EVuQrWr",
      "execution_count": 41,
      "outputs": []
    },
    {
      "cell_type": "code",
      "metadata": {
        "id": "sporting-netscape"
      },
      "source": [
        "model = SimpleNet()"
      ],
      "id": "sporting-netscape",
      "execution_count": 42,
      "outputs": []
    },
    {
      "cell_type": "code",
      "metadata": {
        "id": "institutional-antique"
      },
      "source": [
        "net = SimpleNet()"
      ],
      "id": "institutional-antique",
      "execution_count": 43,
      "outputs": []
    },
    {
      "cell_type": "code",
      "metadata": {
        "colab": {
          "base_uri": "https://localhost:8080/"
        },
        "id": "technical-voltage",
        "outputId": "fa30f4ce-ffa5-4b3c-fb54-f1bab754ce2a"
      },
      "source": [
        "# Checking to see if gpu support is available\n",
        "cuda_avail = torch.cuda.is_available()\n",
        "print(\"true\")\n",
        "# Creating model, optimizer and loss function\n",
        "model = SimpleNet(num_classes=1012)\n",
        "\n",
        "#if cuda is available, moving the model to the GPU (which is not happening in my system)\n",
        "if cuda_avail:\n",
        "    model.cuda()\n",
        "    net.cuda()\n",
        "    print(\"done\")\n",
        "#Define the optimizer and loss function\n",
        "optimizer = optim.Adam(model.parameters(), lr=0.001, weight_decay=0.0001)\n",
        "loss_fn = nn.CrossEntropyLoss()"
      ],
      "id": "technical-voltage",
      "execution_count": 255,
      "outputs": [
        {
          "output_type": "stream",
          "text": [
            "true\n",
            "done\n"
          ],
          "name": "stdout"
        }
      ]
    },
    {
      "cell_type": "code",
      "metadata": {
        "id": "ceramic-sponsorship"
      },
      "source": [
        "# Creating a learning rate adjustment function that divides the learning rate by 10 every 30 epochs\n",
        "def adjust_learning_rate(epoch):\n",
        "    lr = 0.001\n",
        "\n",
        "    if epoch > 180:\n",
        "        lr = lr / 1000000\n",
        "    elif epoch > 150:\n",
        "        lr = lr / 100000\n",
        "    elif epoch > 120:\n",
        "        lr = lr / 10000\n",
        "    elif epoch > 90:\n",
        "        lr = lr / 1000\n",
        "    elif epoch > 60:\n",
        "        lr = lr / 100\n",
        "    elif epoch > 30:\n",
        "        lr = lr / 10\n",
        "\n",
        "    for param_group in optimizer.param_groups:\n",
        "        param_group[\"lr\"] = lr"
      ],
      "id": "ceramic-sponsorship",
      "execution_count": 45,
      "outputs": []
    },
    {
      "cell_type": "code",
      "metadata": {
        "id": "visible-complement"
      },
      "source": [
        "# A  callable function to save the trained model\n",
        "def save_models(epoch):\n",
        "    PATH = '/content/drive/MyDrive/Program/new_model.pth'\n",
        "    torch.save(model.state_dict(),PATH.format(epoch))\n",
        "    print(\"Checkpoint saved\")\n"
      ],
      "id": "visible-complement",
      "execution_count": 46,
      "outputs": []
    },
    {
      "cell_type": "code",
      "metadata": {
        "id": "handy-brush"
      },
      "source": [
        "# A callable function which will evaluate trained model on the test data\n",
        "def test_model():\n",
        "    model.eval()\n",
        "    test_acc = 0.0\n",
        "    for i, (images, labels) in enumerate(test):\n",
        "\n",
        "        if cuda_avail:\n",
        "            images = Variable(images.cuda())\n",
        "            labels = Variable(labels.cuda())\n",
        "\n",
        "        # Predicting classes using images from the test set\n",
        "        outputs = model(images)\n",
        "        _, prediction = torch.max(outputs.data, 1)\n",
        "        test_acc += torch.sum(prediction == labels.data)\n",
        "\n",
        "    # Computing the average acc and loss over all the test images\n",
        "    test_acc = test_acc / len(test)\n",
        "\n",
        "    return test_acc"
      ],
      "id": "handy-brush",
      "execution_count": 113,
      "outputs": []
    },
    {
      "cell_type": "code",
      "metadata": {
        "id": "clinical-imagination"
      },
      "source": [
        "def train_model(num_epochs):\n",
        "    best_acc = 0.0\n",
        "    for epoch in range(num_epochs):\n",
        "        model.train()\n",
        "        train_acc = 0.0\n",
        "        train_loss = 0.0\n",
        "        for i, (images, labels) in enumerate(train):\n",
        "          # Moving images and labels to gpu if available\n",
        "          images = Variable(images.cuda())\n",
        "          labels = Variable(labels.cuda())\n",
        "\n",
        "          # Clearing all accumulated gradients\n",
        "          optimizer.zero_grad()\n",
        "\n",
        "          # Predicting classes using images from the test set\n",
        "          outputs = model(images)\n",
        "\n",
        "          # Computing the loss based on the predictions and actual labels\n",
        "          loss = loss_fn(outputs, labels)\n",
        "\n",
        "          # Backpropagating the loss\n",
        "          loss.backward()\n",
        "\n",
        "          # Adjusting parameters according to the calculated gradients\n",
        "          optimizer.step()\n",
        "          train_loss += loss.item()* images.size(0)\n",
        "          _, prediction = torch.max(outputs.data, 1)\n",
        "          train_acc += torch.sum(prediction == labels.data)\n",
        "\n",
        "        # Calling the learning rate adjustment function\n",
        "        adjust_learning_rate(epoch)\n",
        "\n",
        "        # Computing the average acc and loss over all training images\n",
        "        train_acc = train_acc / len(train)\n",
        "        train_loss = train_loss / len(train)\n",
        "\n",
        "        # Evaluating on the test set\n",
        "        test_acc = test_model()\n",
        "\n",
        "        # Saving the model if the test acc is greater than our current best\n",
        "        if test_acc > best_acc:\n",
        "            save_models(epoch)\n",
        "            best_acc = test_acc\n",
        "\n",
        "        # Printing the metrics\n",
        "        print(\"Epoch {}, Train Accuracy: {} , TrainLoss: {} , Test Accuracy: {}\".format(epoch, train_acc, train_loss,test_acc))"
      ],
      "id": "clinical-imagination",
      "execution_count": 185,
      "outputs": []
    },
    {
      "cell_type": "code",
      "metadata": {
        "id": "i0OY1hQ5-CRp"
      },
      "source": [
        "train_model(200) "
      ],
      "id": "i0OY1hQ5-CRp",
      "execution_count": null,
      "outputs": []
    },
    {
      "cell_type": "markdown",
      "metadata": {
        "id": "adolescent-transparency"
      },
      "source": [
        "## Inference with the Saved Model"
      ],
      "id": "adolescent-transparency"
    },
    {
      "cell_type": "code",
      "metadata": {
        "id": "immune-excuse"
      },
      "source": [
        "# Steps done here are as follows:\n",
        "# 1. Loading our saved model \n",
        "# 2. Creating a function called predict_image which will read the image in the PIL format and convert it into \n",
        "#    tensor format so that further comparasion can be done\n",
        "# 3. Another function called train_pred is used to compare the returned index from test data witht hte trained data\n",
        "#    and give an output matched or not matched\n",
        "# 4. In the last step we predict the confidence score of the prediction \n",
        "# Us as a user just have to provide the path for the test image"
      ],
      "id": "immune-excuse",
      "execution_count": 187,
      "outputs": []
    },
    {
      "cell_type": "code",
      "metadata": {
        "id": "diverse-option",
        "colab": {
          "base_uri": "https://localhost:8080/"
        },
        "outputId": "6a361b65-82ac-49d4-b097-50065c4c9b06"
      },
      "source": [
        "#Loading the saved model\n",
        "path = '/content/drive/MyDrive/Program/new_model.pth'\n",
        "checkpoint = torch.load(path)\n",
        "model = SimpleNet(num_classes=1012)\n",
        "\n",
        "\n",
        "model.load_state_dict(checkpoint)\n",
        "model.eval()"
      ],
      "id": "diverse-option",
      "execution_count": 188,
      "outputs": [
        {
          "output_type": "execute_result",
          "data": {
            "text/plain": [
              "SimpleNet(\n",
              "  (unit1): Unit(\n",
              "    (conv): Conv2d(3, 32, kernel_size=(3, 3), stride=(1, 1), padding=(1, 1))\n",
              "    (bn): BatchNorm2d(32, eps=1e-05, momentum=0.1, affine=True, track_running_stats=True)\n",
              "    (relu): ReLU()\n",
              "  )\n",
              "  (unit2): Unit(\n",
              "    (conv): Conv2d(32, 32, kernel_size=(3, 3), stride=(1, 1), padding=(1, 1))\n",
              "    (bn): BatchNorm2d(32, eps=1e-05, momentum=0.1, affine=True, track_running_stats=True)\n",
              "    (relu): ReLU()\n",
              "  )\n",
              "  (unit3): Unit(\n",
              "    (conv): Conv2d(32, 32, kernel_size=(3, 3), stride=(1, 1), padding=(1, 1))\n",
              "    (bn): BatchNorm2d(32, eps=1e-05, momentum=0.1, affine=True, track_running_stats=True)\n",
              "    (relu): ReLU()\n",
              "  )\n",
              "  (pool1): MaxPool2d(kernel_size=2, stride=2, padding=0, dilation=1, ceil_mode=False)\n",
              "  (unit4): Unit(\n",
              "    (conv): Conv2d(32, 64, kernel_size=(3, 3), stride=(1, 1), padding=(1, 1))\n",
              "    (bn): BatchNorm2d(64, eps=1e-05, momentum=0.1, affine=True, track_running_stats=True)\n",
              "    (relu): ReLU()\n",
              "  )\n",
              "  (unit5): Unit(\n",
              "    (conv): Conv2d(64, 64, kernel_size=(3, 3), stride=(1, 1), padding=(1, 1))\n",
              "    (bn): BatchNorm2d(64, eps=1e-05, momentum=0.1, affine=True, track_running_stats=True)\n",
              "    (relu): ReLU()\n",
              "  )\n",
              "  (unit6): Unit(\n",
              "    (conv): Conv2d(64, 64, kernel_size=(3, 3), stride=(1, 1), padding=(1, 1))\n",
              "    (bn): BatchNorm2d(64, eps=1e-05, momentum=0.1, affine=True, track_running_stats=True)\n",
              "    (relu): ReLU()\n",
              "  )\n",
              "  (unit7): Unit(\n",
              "    (conv): Conv2d(64, 64, kernel_size=(3, 3), stride=(1, 1), padding=(1, 1))\n",
              "    (bn): BatchNorm2d(64, eps=1e-05, momentum=0.1, affine=True, track_running_stats=True)\n",
              "    (relu): ReLU()\n",
              "  )\n",
              "  (pool2): MaxPool2d(kernel_size=2, stride=2, padding=0, dilation=1, ceil_mode=False)\n",
              "  (unit8): Unit(\n",
              "    (conv): Conv2d(64, 128, kernel_size=(3, 3), stride=(1, 1), padding=(1, 1))\n",
              "    (bn): BatchNorm2d(128, eps=1e-05, momentum=0.1, affine=True, track_running_stats=True)\n",
              "    (relu): ReLU()\n",
              "  )\n",
              "  (unit9): Unit(\n",
              "    (conv): Conv2d(128, 128, kernel_size=(3, 3), stride=(1, 1), padding=(1, 1))\n",
              "    (bn): BatchNorm2d(128, eps=1e-05, momentum=0.1, affine=True, track_running_stats=True)\n",
              "    (relu): ReLU()\n",
              "  )\n",
              "  (unit10): Unit(\n",
              "    (conv): Conv2d(128, 128, kernel_size=(3, 3), stride=(1, 1), padding=(1, 1))\n",
              "    (bn): BatchNorm2d(128, eps=1e-05, momentum=0.1, affine=True, track_running_stats=True)\n",
              "    (relu): ReLU()\n",
              "  )\n",
              "  (unit11): Unit(\n",
              "    (conv): Conv2d(128, 128, kernel_size=(3, 3), stride=(1, 1), padding=(1, 1))\n",
              "    (bn): BatchNorm2d(128, eps=1e-05, momentum=0.1, affine=True, track_running_stats=True)\n",
              "    (relu): ReLU()\n",
              "  )\n",
              "  (pool3): MaxPool2d(kernel_size=2, stride=2, padding=0, dilation=1, ceil_mode=False)\n",
              "  (unit12): Unit(\n",
              "    (conv): Conv2d(128, 128, kernel_size=(3, 3), stride=(1, 1), padding=(1, 1))\n",
              "    (bn): BatchNorm2d(128, eps=1e-05, momentum=0.1, affine=True, track_running_stats=True)\n",
              "    (relu): ReLU()\n",
              "  )\n",
              "  (unit13): Unit(\n",
              "    (conv): Conv2d(128, 128, kernel_size=(3, 3), stride=(1, 1), padding=(1, 1))\n",
              "    (bn): BatchNorm2d(128, eps=1e-05, momentum=0.1, affine=True, track_running_stats=True)\n",
              "    (relu): ReLU()\n",
              "  )\n",
              "  (unit14): Unit(\n",
              "    (conv): Conv2d(128, 128, kernel_size=(3, 3), stride=(1, 1), padding=(1, 1))\n",
              "    (bn): BatchNorm2d(128, eps=1e-05, momentum=0.1, affine=True, track_running_stats=True)\n",
              "    (relu): ReLU()\n",
              "  )\n",
              "  (avgpool): AvgPool2d(kernel_size=4, stride=4, padding=0)\n",
              "  (net): Sequential(\n",
              "    (0): Unit(\n",
              "      (conv): Conv2d(3, 32, kernel_size=(3, 3), stride=(1, 1), padding=(1, 1))\n",
              "      (bn): BatchNorm2d(32, eps=1e-05, momentum=0.1, affine=True, track_running_stats=True)\n",
              "      (relu): ReLU()\n",
              "    )\n",
              "    (1): Unit(\n",
              "      (conv): Conv2d(32, 32, kernel_size=(3, 3), stride=(1, 1), padding=(1, 1))\n",
              "      (bn): BatchNorm2d(32, eps=1e-05, momentum=0.1, affine=True, track_running_stats=True)\n",
              "      (relu): ReLU()\n",
              "    )\n",
              "    (2): Unit(\n",
              "      (conv): Conv2d(32, 32, kernel_size=(3, 3), stride=(1, 1), padding=(1, 1))\n",
              "      (bn): BatchNorm2d(32, eps=1e-05, momentum=0.1, affine=True, track_running_stats=True)\n",
              "      (relu): ReLU()\n",
              "    )\n",
              "    (3): MaxPool2d(kernel_size=2, stride=2, padding=0, dilation=1, ceil_mode=False)\n",
              "    (4): Unit(\n",
              "      (conv): Conv2d(32, 64, kernel_size=(3, 3), stride=(1, 1), padding=(1, 1))\n",
              "      (bn): BatchNorm2d(64, eps=1e-05, momentum=0.1, affine=True, track_running_stats=True)\n",
              "      (relu): ReLU()\n",
              "    )\n",
              "    (5): Unit(\n",
              "      (conv): Conv2d(64, 64, kernel_size=(3, 3), stride=(1, 1), padding=(1, 1))\n",
              "      (bn): BatchNorm2d(64, eps=1e-05, momentum=0.1, affine=True, track_running_stats=True)\n",
              "      (relu): ReLU()\n",
              "    )\n",
              "    (6): Unit(\n",
              "      (conv): Conv2d(64, 64, kernel_size=(3, 3), stride=(1, 1), padding=(1, 1))\n",
              "      (bn): BatchNorm2d(64, eps=1e-05, momentum=0.1, affine=True, track_running_stats=True)\n",
              "      (relu): ReLU()\n",
              "    )\n",
              "    (7): Unit(\n",
              "      (conv): Conv2d(64, 64, kernel_size=(3, 3), stride=(1, 1), padding=(1, 1))\n",
              "      (bn): BatchNorm2d(64, eps=1e-05, momentum=0.1, affine=True, track_running_stats=True)\n",
              "      (relu): ReLU()\n",
              "    )\n",
              "    (8): MaxPool2d(kernel_size=2, stride=2, padding=0, dilation=1, ceil_mode=False)\n",
              "    (9): Unit(\n",
              "      (conv): Conv2d(64, 128, kernel_size=(3, 3), stride=(1, 1), padding=(1, 1))\n",
              "      (bn): BatchNorm2d(128, eps=1e-05, momentum=0.1, affine=True, track_running_stats=True)\n",
              "      (relu): ReLU()\n",
              "    )\n",
              "    (10): Unit(\n",
              "      (conv): Conv2d(128, 128, kernel_size=(3, 3), stride=(1, 1), padding=(1, 1))\n",
              "      (bn): BatchNorm2d(128, eps=1e-05, momentum=0.1, affine=True, track_running_stats=True)\n",
              "      (relu): ReLU()\n",
              "    )\n",
              "    (11): Unit(\n",
              "      (conv): Conv2d(128, 128, kernel_size=(3, 3), stride=(1, 1), padding=(1, 1))\n",
              "      (bn): BatchNorm2d(128, eps=1e-05, momentum=0.1, affine=True, track_running_stats=True)\n",
              "      (relu): ReLU()\n",
              "    )\n",
              "    (12): Unit(\n",
              "      (conv): Conv2d(128, 128, kernel_size=(3, 3), stride=(1, 1), padding=(1, 1))\n",
              "      (bn): BatchNorm2d(128, eps=1e-05, momentum=0.1, affine=True, track_running_stats=True)\n",
              "      (relu): ReLU()\n",
              "    )\n",
              "    (13): MaxPool2d(kernel_size=2, stride=2, padding=0, dilation=1, ceil_mode=False)\n",
              "    (14): Unit(\n",
              "      (conv): Conv2d(128, 128, kernel_size=(3, 3), stride=(1, 1), padding=(1, 1))\n",
              "      (bn): BatchNorm2d(128, eps=1e-05, momentum=0.1, affine=True, track_running_stats=True)\n",
              "      (relu): ReLU()\n",
              "    )\n",
              "    (15): Unit(\n",
              "      (conv): Conv2d(128, 128, kernel_size=(3, 3), stride=(1, 1), padding=(1, 1))\n",
              "      (bn): BatchNorm2d(128, eps=1e-05, momentum=0.1, affine=True, track_running_stats=True)\n",
              "      (relu): ReLU()\n",
              "    )\n",
              "    (16): Unit(\n",
              "      (conv): Conv2d(128, 128, kernel_size=(3, 3), stride=(1, 1), padding=(1, 1))\n",
              "      (bn): BatchNorm2d(128, eps=1e-05, momentum=0.1, affine=True, track_running_stats=True)\n",
              "      (relu): ReLU()\n",
              "    )\n",
              "    (17): AvgPool2d(kernel_size=4, stride=4, padding=0)\n",
              "  )\n",
              "  (fc): Linear(in_features=6272, out_features=1012, bias=True)\n",
              ")"
            ]
          },
          "metadata": {
            "tags": []
          },
          "execution_count": 188
        }
      ]
    },
    {
      "cell_type": "code",
      "metadata": {
        "id": "challenging-terrain"
      },
      "source": [
        "# Reads and converts the images from PIL format image to tensor format and returns an index value which will be \n",
        "# compared with train data later\n",
        "from PIL import Image\n",
        "from torch.autograd import Variable\n",
        "import torchvision\n",
        "def predict_image(image_path):\n",
        "    print(\"Prediction in progress\")\n",
        "    image = Image.open(image_path)\n",
        "\n",
        "    # Define transformations for the image, should (note that imagenet models are trained with image size 224)\n",
        "    transformation = transforms.Compose([transforms.Resize(256),\n",
        "        transforms.CenterCrop(224),\n",
        "        transforms.ToTensor(),\n",
        "        transforms.Normalize((0.5, 0.5, 0.5), (0.5, 0.5, 0.5))])\n",
        "\n",
        "    # Preprocess the image\n",
        "    image_tensor = transformation(image).float()\n",
        "\n",
        "    # Add an extra batch dimension since pytorch treats all images as batches\n",
        "    image_tensor = image_tensor.unsqueeze_(0)\n",
        "  \n",
        "\n",
        "    # Turn the input into a Variable\n",
        "    input = Variable(image_tensor)\n",
        "    input = input.to(device)\n",
        "#     print('input',input)\n",
        "    # Predict the class of the image\n",
        "    input.cuda()\n",
        "    output = net(input)\n",
        "    index = output.data.cpu().numpy().argmax()\n",
        "    \n",
        "    \n",
        "    # Displaying the test image\n",
        "    plt.imshow(image)\n",
        "    \n",
        "    return index\n",
        "\n",
        "\n",
        "\n",
        "\n"
      ],
      "id": "challenging-terrain",
      "execution_count": 281,
      "outputs": []
    },
    {
      "cell_type": "code",
      "metadata": {
        "id": "MUlprnaftoS5"
      },
      "source": [
        "device = torch.device(\"cuda:0\" if torch.cuda.is_available() else \"cpu\")\n"
      ],
      "id": "MUlprnaftoS5",
      "execution_count": 282,
      "outputs": []
    },
    {
      "cell_type": "code",
      "metadata": {
        "id": "expected-fashion"
      },
      "source": [
        "# This callable function takes the test data index and compares it with the trained set and compares the \n",
        "# information and displays a match or no match\n",
        "def train_pred(index):\n",
        "    count = 0\n",
        "    for data in train:\n",
        "        images,labels = data\n",
        "\n",
        "        if labels == index:\n",
        "            print(\"output matched\",labels)\n",
        "          \n",
        "        else:\n",
        "            count += 1"
      ],
      "id": "expected-fashion",
      "execution_count": 283,
      "outputs": []
    },
    {
      "cell_type": "code",
      "metadata": {
        "id": "comparable-copper",
        "colab": {
          "base_uri": "https://localhost:8080/",
          "height": 287
        },
        "outputId": "1ba81769-f108-4ddf-8a39-f89e9ef042ee"
      },
      "source": [
        "# User can put the directory of the image to be tested in the variable image_path and run the cell\n",
        "image_path = \"/content/drive/MyDrive/Program/train_01/0005_0000530/0005_0000530_script.jpg\"\n",
        "index = predict_image(image_path)"
      ],
      "id": "comparable-copper",
      "execution_count": 286,
      "outputs": [
        {
          "output_type": "stream",
          "text": [
            "Prediction in progress\n"
          ],
          "name": "stdout"
        },
        {
          "output_type": "display_data",
          "data": {
            "image/png": "[encoded data removed]",
            "text/plain": [
              "<Figure size 432x288 with 1 Axes>"
            ]
          },
          "metadata": {
            "tags": [],
            "needs_background": "light"
          }
        }
      ]
    },
    {
      "cell_type": "code",
      "metadata": {
        "id": "polyphonic-equipment",
        "colab": {
          "base_uri": "https://localhost:8080/"
        },
        "outputId": "2f73c0e2-af59-493c-86fd-aba25bf177ba"
      },
      "source": [
        "# Calling the function for comparison\n",
        "train_pred(index)"
      ],
      "id": "polyphonic-equipment",
      "execution_count": 288,
      "outputs": [
        {
          "output_type": "stream",
          "text": [
            "output matched tensor([857])\n"
          ],
          "name": "stdout"
        }
      ]
    },
    {
      "cell_type": "code",
      "metadata": {
        "id": "cubic-louis",
        "colab": {
          "base_uri": "https://localhost:8080/"
        },
        "outputId": "7ca869da-d33b-4f53-aae3-c842a3d76294"
      },
      "source": [
        "#Accuracy prediction\n",
        "r = 0\n",
        "s = 0\n",
        "with torch.no_grad():\n",
        "    for data in test:\n",
        "        images,test_label = data\n",
        "        r += test_label.size(0)\n",
        "        for info in train:\n",
        "            images,train_label =info\n",
        "            if train_label == test_label:\n",
        "                s += (train_label == test_label).sum().item()\n",
        " \n",
        "print('Accuracy of a network is: %d %% ' % (100*r/s))\n",
        "            "
      ],
      "id": "cubic-louis",
      "execution_count": 295,
      "outputs": [
        {
          "output_type": "stream",
          "text": [
            "Accuracy of a network is: 73 % \n"
          ],
          "name": "stdout"
        }
      ]
    },
    {
      "cell_type": "code",
      "metadata": {
        "id": "4f4LxnfE8lqU"
      },
      "source": [
        ""
      ],
      "id": "4f4LxnfE8lqU",
      "execution_count": null,
      "outputs": []
    }
  ]
}